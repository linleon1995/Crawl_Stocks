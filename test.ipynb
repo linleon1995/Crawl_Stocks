{
 "cells": [
  {
   "cell_type": "code",
   "execution_count": 42,
   "source": [
    "# Earn probability\n",
    "import numpy as np\n",
    "import pandas as pd\n",
    "import matplotlib.pyplot as plt\n",
    "import logging \n",
    "logging.basicConfig(level=logging.DEBUG, \n",
    "                    format='%(asctime)s %(levelname)s %(message)s', \n",
    "                    datefmt='%Y-%m-%d %H:%M', \n",
    "                    handlers=[logging.FileHandler('my.log', 'w', 'utf-8'), ])\n",
    "\n",
    "    \n",
    "def earn(init_price, data, exp_profit):\n",
    "    fit_profit = []\n",
    "    # data = data[:120]\n",
    "    for p in data['close']:\n",
    "        profit = (p - init_price) / p\n",
    "        if profit > exp_profit:\n",
    "            fit_profit.append(p)\n",
    "\n",
    "    print(len(fit_profit)/len(data['close']))\n",
    "\n",
    "def earn_probs(trade, profit_yield):\n",
    "    # load data\n",
    "    df = pd.read_csv('history/ETHUSDT-1m-data.csv')\n",
    "    price = df[['timestamp', 'close']]\n",
    "    \n",
    "    # print(price['close'][1])\n",
    "    # print(price)\n",
    "    # check fitting yield time\n",
    "    earn(min(price['close']), price[1:], profit_yield)\n",
    "    plt.plot(price['close'])\n",
    "    plt.show()\n",
    "    # histogram\n",
    "    pass\n",
    "\n",
    "def main():\n",
    "    t1 = one_trade('buy', 'eth', 10, 'usdt')\n",
    "    earn_probs(t1, 0.005)\n",
    "\n",
    "\n",
    "if __name__ == '__main__':\n",
    "    main()"
   ],
   "outputs": [
    {
     "output_type": "stream",
     "name": "stdout",
     "text": [
      "0.9971898835808912\n"
     ]
    },
    {
     "output_type": "display_data",
     "data": {
      "image/png": "[encoded data removed]",
      "text/plain": [
       "<Figure size 432x288 with 1 Axes>"
      ]
     },
     "metadata": {
      "needs_background": "light"
     }
    }
   ],
   "metadata": {}
  },
  {
   "cell_type": "code",
   "execution_count": null,
   "source": [
    "# Fast Trade Experiment\n",
    "import numpy as np\n",
    "import pandas as pd\n",
    "import matplotlib.pyplot as plt\n",
    "import logging\n",
    "from crypto_crawler import get_all_binance_modified\n",
    "import finlab_crypto\n",
    "    \n",
    "    \n",
    "logging.basicConfig(level=logging.DEBUG, \n",
    "                    format='%(asctime)s %(levelname)s %(message)s', \n",
    "                    datefmt='%Y-%m-%d %H:%M', \n",
    "                    handlers=[logging.FileHandler('my.log', 'w', 'utf-8'), ])\n",
    "\n",
    "\n",
    "def get_data(trading_pair):\n",
    "    finlab_crypto.setup()\n",
    "    _ = get_all_binance_modified(trading_pair, '1m')\n",
    "    df = pd.read_csv(rf'history/{trading_pair}-1m-data.csv')\n",
    "    price = df[['timestamp', 'close']]\n",
    "    return price\n",
    "\n",
    "class simulated_trading_api():\n",
    "    def __init__(self, trading_type, trading_pair, trading_amout):\n",
    "        self.trading_pair = trading_pair\n",
    "        self.data = get_data(self.trading_pair)\n",
    "\n",
    "class one_trade():\n",
    "    def __init__(self, trading_type, trading_pair, trading_amout):\n",
    "        self.trading_type = trading_type\n",
    "        self.trading_pair = trading_pair\n",
    "        self.trading_amout = trading_amout\n",
    "\n",
    "    def process(self):\n",
    "        # process trading\n",
    "        # TODO: trading code\n",
    "\n",
    "\n",
    "class ma_trading():\n",
    "    def __init__(self, balance, balance_threshold, trading_type, trading_obj, trading_amout, trading_unit, \n",
    "                 ma_threshold=0.1, trading_fee=2e-3, earn_threshold=1e-3, hard_stop=True):\n",
    "        self.ma_threshold = ma_threshold\n",
    "        self.balance = balance\n",
    "        self.balance_threshold = balance_threshold\n",
    "        self.trade = one_trade(trading_type, trading_obj, trading_amout, trading_unit)\n",
    "        self.hard_stop = hard_stop\n",
    "\n",
    "    def trading(self):\n",
    "        while True:\n",
    "            if self.balance > self.balance_threshold:\n",
    "                # get current slope of moving average\n",
    "                # TODO: get current ma\n",
    "                cur_ma = None\n",
    "                if np.abs(cur_ma) < self.ma_threshold:\n",
    "                    self.balance = self.trade.process()\n",
    "                else:\n",
    "                    logging.INFO('STOP TRADING: Moving Average out of range.')\n",
    "                    if self.hard_stop:\n",
    "                        break\n",
    "                    else:\n",
    "                        continue\n",
    "            else:\n",
    "                logging.INFO('STOP TRADING: Insufficient balance.')\n",
    "                break"
   ],
   "outputs": [],
   "metadata": {}
  },
  {
   "cell_type": "code",
   "execution_count": null,
   "source": [
    "def get_audio_transform_paramters(x, config):\n",
    "    if x == 'mel-spec':\n",
    "        \n",
    "    elif x == 'spec':\n",
    "    elif x == 'MFCC':\n",
    "    elif x == 'waveform':\n",
    "        pass\n",
    "    else:\n",
    "        raise ValueError('Unknown audio transformation')\n",
    "\n",
    "\n",
    "x = 'mel-spec'\n",
    "transform_params = get_audio_transform_paramters(x, self.config.dataset.preprocess_config)\n",
    "transform_params = self.config.dataset.preprocess_config\n",
    "\n",
    "if x == 'mel-spec':\n",
    "    t = torchaudio.MelSpectrogram(**transform_params)\n",
    "elif x == 'spec':\n",
    "    t = torchaudio.Spectrogram(**transform_params)\n",
    "elif x == 'MFCC':\n",
    "    t = torchaudio.MFCC(**transform_params)\n",
    "elif x == 'waveform':\n",
    "    t = torch.nn.Identity(**transform_params)\n",
    "elif x == 'filterbank':\n",
    "    def return_filterbank(x):\n",
    "        return torchaudio.compliance.kaldi.filterbank(x)\n",
    "    t = return_filterbank\n",
    "\n",
    "return t(x)\n",
    "\n",
    "    "
   ],
   "outputs": [],
   "metadata": {}
  }
 ],
 "metadata": {
  "orig_nbformat": 4,
  "language_info": {
   "name": "python",
   "version": "3.6.9",
   "mimetype": "text/x-python",
   "codemirror_mode": {
    "name": "ipython",
    "version": 3
   },
   "pygments_lexer": "ipython3",
   "nbconvert_exporter": "python",
   "file_extension": ".py"
  },
  "kernelspec": {
   "name": "python3",
   "display_name": "Python 3.6.9 64-bit"
  },
  "interpreter": {
   "hash": "767d51c1340bd893661ea55ea3124f6de3c7a262a8b4abca0554b478b1e2ff90"
  }
 },
 "nbformat": 4,
 "nbformat_minor": 2
}